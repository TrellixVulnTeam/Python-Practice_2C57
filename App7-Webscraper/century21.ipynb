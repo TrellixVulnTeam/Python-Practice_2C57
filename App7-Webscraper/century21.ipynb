{
 "cells": [
  {
   "cell_type": "code",
   "execution_count": 41,
   "metadata": {},
   "outputs": [
    {
     "data": {
      "text/plain": [
       "'$725,000'"
      ]
     },
     "execution_count": 41,
     "metadata": {},
     "output_type": "execute_result"
    }
   ],
   "source": [
    "import requests\n",
    "from bs4 import BeautifulSoup\n",
    "\n",
    "link = \"http://www.pyclass.com/real-estate/rock-springs-wy/LCWYROCKSPRINGS/\"\n",
    "link_header = {'User-agent': 'Mozilla/5.0 (X11; Ubuntu; Linux x86_64; rv:61.0) Gecko/20100101 Firefox/61.0'}\n",
    "\n",
    "r = requests.get(link, headers=link_header)\n",
    "c = r.content\n",
    "\n",
    "soup = BeautifulSoup(c, \"html.parser\")\n",
    "\n",
    "all = soup.find_all(\"div\",{\"class\":\"propertyRow\"})\n",
    "\n",
    "all[0].find(\"h4\",{\"class\":\"propPrice\"}).text.replace(\"\\n\",\"\").replace(\" \",\"\")"
   ]
  },
  {
   "cell_type": "code",
   "execution_count": 42,
   "metadata": {},
   "outputs": [],
   "source": [
    "l = []\n",
    "for item in all :\n",
    "    d = {}\n",
    "    #find address in span\n",
    "    d[\"Address\"]=item.find_all(\"span\",{\"class\":\"propAddressCollapse\"})[0].text \n",
    "    d[\"Locality\"]=item.find_all(\"span\",{\"class\":\"propAddressCollapse\"})[1].text\n",
    "    d[\"Price\"]=item.find(\"h4\",{\"class\":\"propPrice\"}).text.replace(\"\\n\",\"\").replace(\" \",\"\")\n",
    "    try:\n",
    "        d[\"Beds\"]=item.find(\"span\",{\"class\":\"infoBed\"}).find(\"b\").text\n",
    "    except:\n",
    "        d[\"Beds\"]=None\n",
    "    try:\n",
    "        d[\"Area\"]=item.find(\"span\",{\"class\":\"infoSqFt\"}).find(\"b\").text\n",
    "    except:\n",
    "        d[\"Area\"]=None\n",
    "    try:\n",
    "        d[\"Full Baths\"]=item.find(\"span\",{\"class\":\"infoValueFullBath\"}).find(\"b\").text\n",
    "    except:\n",
    "        d[\"Full Baths\"]=None\n",
    "    try:\n",
    "        d[\"Half Baths\"]=item.find(\"span\",{\"class\":\"infoValueHalfBath\"}).find(\"b\").text\n",
    "    except:\n",
    "        d[\"Half Baths\"]=None\n",
    "    for column_group in item.find_all(\"div\",{\"class\":\"columnGroup\"}):\n",
    "        feature_groups = column_group.find_all(\"span\",{\"class\":\"featureGroup\"})\n",
    "        feature_names = column_group.find_all(\"span\",{\"class\":\"featureName\"})\n",
    "        for feature_group, feature_name in zip(feature_groups,feature_names):\n",
    "            if \"Lot Size:\" in feature_group.text :\n",
    "                d[\"Lot Size\"]=feature_name.text\n",
    "\n",
    "    l.append(d)"
   ]
  },
  {
   "cell_type": "code",
   "execution_count": 43,
   "metadata": {},
   "outputs": [
    {
     "data": {
      "text/plain": [
       "10"
      ]
     },
     "execution_count": 43,
     "metadata": {},
     "output_type": "execute_result"
    }
   ],
   "source": [
    "len(l)"
   ]
  },
  {
   "cell_type": "code",
   "execution_count": 44,
   "metadata": {},
   "outputs": [],
   "source": [
    "import pandas\n",
    "df = pandas.DataFrame(l)"
   ]
  },
  {
   "cell_type": "code",
   "execution_count": 45,
   "metadata": {},
   "outputs": [
    {
     "data": {
      "text/html": [
       "<div>\n",
       "<style scoped>\n",
       "    .dataframe tbody tr th:only-of-type {\n",
       "        vertical-align: middle;\n",
       "    }\n",
       "\n",
       "    .dataframe tbody tr th {\n",
       "        vertical-align: top;\n",
       "    }\n",
       "\n",
       "    .dataframe thead th {\n",
       "        text-align: right;\n",
       "    }\n",
       "</style>\n",
       "<table border=\"1\" class=\"dataframe\">\n",
       "  <thead>\n",
       "    <tr style=\"text-align: right;\">\n",
       "      <th></th>\n",
       "      <th>Address</th>\n",
       "      <th>Locality</th>\n",
       "      <th>Price</th>\n",
       "      <th>Beds</th>\n",
       "      <th>Area</th>\n",
       "      <th>Full Baths</th>\n",
       "      <th>Half Baths</th>\n",
       "      <th>Lot Size</th>\n",
       "    </tr>\n",
       "  </thead>\n",
       "  <tbody>\n",
       "    <tr>\n",
       "      <th>0</th>\n",
       "      <td>0 Gateway</td>\n",
       "      <td>Rock Springs, WY 82901</td>\n",
       "      <td>$725,000</td>\n",
       "      <td>None</td>\n",
       "      <td>None</td>\n",
       "      <td>None</td>\n",
       "      <td>None</td>\n",
       "      <td>NaN</td>\n",
       "    </tr>\n",
       "    <tr>\n",
       "      <th>1</th>\n",
       "      <td>1003 Winchester Blvd.</td>\n",
       "      <td>Rock Springs, WY 82901</td>\n",
       "      <td>$452,900</td>\n",
       "      <td>4</td>\n",
       "      <td>None</td>\n",
       "      <td>4</td>\n",
       "      <td>None</td>\n",
       "      <td>0.21 Acres</td>\n",
       "    </tr>\n",
       "    <tr>\n",
       "      <th>2</th>\n",
       "      <td>600 Talladega</td>\n",
       "      <td>Rock Springs, WY 82901</td>\n",
       "      <td>$396,900</td>\n",
       "      <td>5</td>\n",
       "      <td>3,154</td>\n",
       "      <td>3</td>\n",
       "      <td>None</td>\n",
       "      <td>NaN</td>\n",
       "    </tr>\n",
       "    <tr>\n",
       "      <th>3</th>\n",
       "      <td>3239 Spearhead Way</td>\n",
       "      <td>Rock Springs, WY 82901</td>\n",
       "      <td>$389,900</td>\n",
       "      <td>4</td>\n",
       "      <td>3,076</td>\n",
       "      <td>3</td>\n",
       "      <td>1</td>\n",
       "      <td>Under 1/2 Acre,</td>\n",
       "    </tr>\n",
       "    <tr>\n",
       "      <th>4</th>\n",
       "      <td>522 Emerald Street</td>\n",
       "      <td>Rock Springs, WY 82901</td>\n",
       "      <td>$254,000</td>\n",
       "      <td>3</td>\n",
       "      <td>1,172</td>\n",
       "      <td>3</td>\n",
       "      <td>None</td>\n",
       "      <td>Under 1/2 Acre,</td>\n",
       "    </tr>\n",
       "    <tr>\n",
       "      <th>5</th>\n",
       "      <td>1302 Veteran's Drive</td>\n",
       "      <td>Rock Springs, WY 82901</td>\n",
       "      <td>$252,900</td>\n",
       "      <td>4</td>\n",
       "      <td>1,932</td>\n",
       "      <td>2</td>\n",
       "      <td>None</td>\n",
       "      <td>0.27 Acres</td>\n",
       "    </tr>\n",
       "    <tr>\n",
       "      <th>6</th>\n",
       "      <td>1021 Cypress Cir</td>\n",
       "      <td>Rock Springs, WY 82901</td>\n",
       "      <td>$210,000</td>\n",
       "      <td>4</td>\n",
       "      <td>1,676</td>\n",
       "      <td>3</td>\n",
       "      <td>None</td>\n",
       "      <td>Under 1/2 Acre,</td>\n",
       "    </tr>\n",
       "    <tr>\n",
       "      <th>7</th>\n",
       "      <td>913 Madison Dr</td>\n",
       "      <td>Rock Springs, WY 82901</td>\n",
       "      <td>$209,000</td>\n",
       "      <td>3</td>\n",
       "      <td>1,344</td>\n",
       "      <td>2</td>\n",
       "      <td>None</td>\n",
       "      <td>Under 1/2 Acre,</td>\n",
       "    </tr>\n",
       "    <tr>\n",
       "      <th>8</th>\n",
       "      <td>1344 Teton Street</td>\n",
       "      <td>Rock Springs, WY 82901</td>\n",
       "      <td>$199,900</td>\n",
       "      <td>3</td>\n",
       "      <td>1,920</td>\n",
       "      <td>2</td>\n",
       "      <td>None</td>\n",
       "      <td>Under 1/2 Acre,</td>\n",
       "    </tr>\n",
       "    <tr>\n",
       "      <th>9</th>\n",
       "      <td>4 Minnies Lane</td>\n",
       "      <td>Rock Springs, WY 82901</td>\n",
       "      <td>$196,900</td>\n",
       "      <td>3</td>\n",
       "      <td>1,664</td>\n",
       "      <td>2</td>\n",
       "      <td>None</td>\n",
       "      <td>2.02 Acres</td>\n",
       "    </tr>\n",
       "  </tbody>\n",
       "</table>\n",
       "</div>"
      ],
      "text/plain": [
       "                 Address                Locality     Price  Beds   Area  \\\n",
       "0              0 Gateway  Rock Springs, WY 82901  $725,000  None   None   \n",
       "1  1003 Winchester Blvd.  Rock Springs, WY 82901  $452,900     4   None   \n",
       "2          600 Talladega  Rock Springs, WY 82901  $396,900     5  3,154   \n",
       "3     3239 Spearhead Way  Rock Springs, WY 82901  $389,900     4  3,076   \n",
       "4     522 Emerald Street  Rock Springs, WY 82901  $254,000     3  1,172   \n",
       "5   1302 Veteran's Drive  Rock Springs, WY 82901  $252,900     4  1,932   \n",
       "6       1021 Cypress Cir  Rock Springs, WY 82901  $210,000     4  1,676   \n",
       "7         913 Madison Dr  Rock Springs, WY 82901  $209,000     3  1,344   \n",
       "8      1344 Teton Street  Rock Springs, WY 82901  $199,900     3  1,920   \n",
       "9         4 Minnies Lane  Rock Springs, WY 82901  $196,900     3  1,664   \n",
       "\n",
       "  Full Baths Half Baths          Lot Size  \n",
       "0       None       None               NaN  \n",
       "1          4       None        0.21 Acres  \n",
       "2          3       None               NaN  \n",
       "3          3          1  Under 1/2 Acre,   \n",
       "4          3       None  Under 1/2 Acre,   \n",
       "5          2       None        0.27 Acres  \n",
       "6          3       None  Under 1/2 Acre,   \n",
       "7          2       None  Under 1/2 Acre,   \n",
       "8          2       None  Under 1/2 Acre,   \n",
       "9          2       None        2.02 Acres  "
      ]
     },
     "execution_count": 45,
     "metadata": {},
     "output_type": "execute_result"
    }
   ],
   "source": [
    "df"
   ]
  },
  {
   "cell_type": "code",
   "execution_count": 46,
   "metadata": {},
   "outputs": [],
   "source": [
    "df.to_csv(\"output.csv\")"
   ]
  },
  {
   "cell_type": "code",
   "execution_count": 47,
   "metadata": {},
   "outputs": [],
   "source": [
    "def list_per_page(soup) : \n",
    "    all = soup.find_all(\"div\",{\"class\":\"propertyRow\"})\n",
    "    l = []\n",
    "    for item in all :\n",
    "        d = {}\n",
    "        #find address in span\n",
    "        d[\"Address\"]=item.find_all(\"span\",{\"class\":\"propAddressCollapse\"})[0].text \n",
    "        d[\"Locality\"]=item.find_all(\"span\",{\"class\":\"propAddressCollapse\"})[1].text\n",
    "        d[\"Price\"]=item.find(\"h4\",{\"class\":\"propPrice\"}).text.replace(\"\\n\",\"\").replace(\" \",\"\")\n",
    "        try:\n",
    "            d[\"Beds\"]=item.find(\"span\",{\"class\":\"infoBed\"}).find(\"b\").text\n",
    "        except:\n",
    "            d[\"Beds\"]=None\n",
    "        try:\n",
    "            d[\"Area\"]=item.find(\"span\",{\"class\":\"infoSqFt\"}).find(\"b\").text\n",
    "        except:\n",
    "            d[\"Area\"]=None\n",
    "        try:\n",
    "            d[\"Full Baths\"]=item.find(\"span\",{\"class\":\"infoValueFullBath\"}).find(\"b\").text\n",
    "        except:\n",
    "            d[\"Full Baths\"]=None\n",
    "        try:\n",
    "            d[\"Half Baths\"]=item.find(\"span\",{\"class\":\"infoValueHalfBath\"}).find(\"b\").text\n",
    "        except:\n",
    "            d[\"Half Baths\"]=None\n",
    "        for column_group in item.find_all(\"div\",{\"class\":\"columnGroup\"}):\n",
    "            feature_groups = column_group.find_all(\"span\",{\"class\":\"featureGroup\"})\n",
    "            feature_names = column_group.find_all(\"span\",{\"class\":\"featureName\"})\n",
    "            for feature_group, feature_name in zip(feature_groups,feature_names):\n",
    "                if \"Lot Size:\" in feature_group.text :\n",
    "                    d[\"Lot Size\"]=feature_name.text\n",
    "        l.append(d)\n",
    "    return l"
   ]
  },
  {
   "cell_type": "code",
   "execution_count": 52,
   "metadata": {},
   "outputs": [
    {
     "name": "stdout",
     "output_type": "stream",
     "text": [
      "http://www.pyclass.com/real-estate/rock-springs-wy/LCWYROCKSPRINGS/t=0&s=0.html\n",
      "10\n",
      "http://www.pyclass.com/real-estate/rock-springs-wy/LCWYROCKSPRINGS/t=0&s=10.html\n",
      "20\n",
      "http://www.pyclass.com/real-estate/rock-springs-wy/LCWYROCKSPRINGS/t=0&s=20.html\n",
      "37\n"
     ]
    },
    {
     "data": {
      "text/plain": [
       "37"
      ]
     },
     "execution_count": 52,
     "metadata": {},
     "output_type": "execute_result"
    }
   ],
   "source": [
    "base_url = \"http://www.pyclass.com/real-estate/rock-springs-wy/LCWYROCKSPRINGS/t=0&s=\"\n",
    "result = []\n",
    "r = requests.get(link, headers=link_header)\n",
    "c = r.content\n",
    "soup = BeautifulSoup(c, \"html.parser\")\n",
    "page_number = soup.find_all(\"a\",{\"class\":\"Page\"})[-1].text\n",
    "for page in range(0,int(page_number)) :\n",
    "    url = base_url+\"%s.html\"%(page*10)\n",
    "    print(url)\n",
    "    r = requests.get(url, headers=link_header)\n",
    "    c = r.content\n",
    "\n",
    "    soup = BeautifulSoup(c, \"html.parser\")\n",
    "    result.extend(list_per_page(soup))\n",
    "    print(len(result))\n",
    "len(result)"
   ]
  },
  {
   "cell_type": "code",
   "execution_count": 51,
   "metadata": {},
   "outputs": [],
   "source": [
    "df = pandas.DataFrame(result)\n",
    "df.to_csv(\"output.csv\")"
   ]
  },
  {
   "cell_type": "code",
   "execution_count": null,
   "metadata": {},
   "outputs": [],
   "source": []
  }
 ],
 "metadata": {
  "kernelspec": {
   "display_name": "Python 3",
   "language": "python",
   "name": "python3"
  },
  "language_info": {
   "codemirror_mode": {
    "name": "ipython",
    "version": 3
   },
   "file_extension": ".py",
   "mimetype": "text/x-python",
   "name": "python",
   "nbconvert_exporter": "python",
   "pygments_lexer": "ipython3",
   "version": "3.7.7"
  }
 },
 "nbformat": 4,
 "nbformat_minor": 4
}
