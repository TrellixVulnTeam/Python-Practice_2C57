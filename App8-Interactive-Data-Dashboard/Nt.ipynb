{
 "cells": [
  {
   "cell_type": "code",
   "execution_count": 1,
   "metadata": {},
   "outputs": [],
   "source": [
    "from pandas_datareader import data\n",
    "from datetime import datetime\n",
    "from bokeh.plotting import figure, output_file, show\n",
    "from bokeh.embed import components\n",
    "from bokeh.resources import CDN\n",
    "\n",
    "start = datetime(2015,11,1)\n",
    "end = datetime(2016,3,10)\n",
    "# data_source support : https://pandas-datareader.readthedocs.io/en/latest/remote_data.html#remote-data-access\n",
    "df=data.DataReader(name=\"GOOG\",data_source=\"yahoo\",start=start, end=end)\n",
    "df\n",
    "\n",
    "date_increase = df.index[df.Close > df.Open]\n",
    "date_decrease = df.index[df.Close < df.Open]\n",
    "\n",
    "def inc_dec(df_close,df_open):\n",
    "    if df_close > df_open :\n",
    "        return \"Increase\"\n",
    "    elif df_close < df_open:\n",
    "        return \"Decrease\"\n",
    "    else :\n",
    "        return \"Equal\"\n",
    "\n",
    "df[\"Status\"]=[inc_dec(c,o) for c,o in zip(df.Close,df.Open)]\n",
    "df[\"Middle\"]=(df.Open+df.Close)/2\n",
    "df[\"Height\"]=abs(df.Open-df.Close)\n",
    "df\n",
    "\n",
    "# use sizing_mode = \"scale_width\" instead of responsive=True to scale with window\n",
    "p = figure(x_axis_type='datetime', width = 1000, height = 300, \n",
    "           sizing_mode = \"scale_width\")\n",
    "p.title.text =\"Candlestick Chart\"\n",
    "\n",
    "# grid transparent from 0->1. 0 is transparent \n",
    "p.grid.grid_line_alpha = 0.3\n",
    "\n",
    "# be rong o vuong\n",
    "hours_12 = 12*60*60*1000\n",
    "\n",
    "#add Line into rect\n",
    "#add before rect so that it will be behind rect\n",
    "p.segment(df.index, df.High, df.index, df.Low, color=\"Black\")\n",
    "\n",
    "# x_axis, y_axis, width of rect, height of rect\n",
    "#p.rect(date_increase,(df.Open+df.Close)/2, hours_12, \n",
    "#       abs(df.Open-df.Close),fill_color=\"green\", line_color=\"black\")\n",
    "#p.rect(date_decrease,(df.Open+df.Close)/2, hours_12, \n",
    "#       abs(df.Open-df.Close),fill_color=\"red\", line_color=\"black\")\n",
    "# use \"#\"+CSS Colors => \"#CCFFFF\"\n",
    "p.rect(df.index[df.Status==\"Increase\"],df.Middle[df.Status==\"Increase\"], hours_12, \n",
    "       df.Height[df.Status==\"Increase\"],fill_color=\"#CCFFFF\", line_color=\"black\")\n",
    "p.rect(df.index[df.Status==\"Decrease\"],df.Middle[df.Status==\"Decrease\"], hours_12, \n",
    "       df.Height[df.Status==\"Decrease\"],fill_color=\"#FF3333\", line_color=\"black\")\n",
    "\n",
    "#scripts used for html. components is tuple\n",
    "script1, div1 = components(p)\n",
    "cdn_js = CDN.js_files\n",
    "cdn_css = CDN.css_files\n",
    "\n",
    "#use mode = \"inline\" if bokeh is blank\n",
    "output_file(\"CS.html\",mode=\"inline\")\n",
    "show(p)"
   ]
  },
  {
   "cell_type": "code",
   "execution_count": 25,
   "metadata": {},
   "outputs": [
    {
     "data": {
      "text/plain": [
       "['https://cdn.pydata.org/bokeh/dev/bokeh-1.0.0dev3.min.css',\n",
       " 'https://cdn.pydata.org/bokeh/dev/bokeh-widgets-1.0.0dev3.min.css',\n",
       " 'https://cdn.pydata.org/bokeh/dev/bokeh-tables-1.0.0dev3.min.css']"
      ]
     },
     "execution_count": 25,
     "metadata": {},
     "output_type": "execute_result"
    }
   ],
   "source": [
    "cdn_css"
   ]
  },
  {
   "cell_type": "code",
   "execution_count": null,
   "metadata": {},
   "outputs": [],
   "source": []
  }
 ],
 "metadata": {
  "kernelspec": {
   "display_name": "Python 3",
   "language": "python",
   "name": "python3"
  },
  "language_info": {
   "codemirror_mode": {
    "name": "ipython",
    "version": 3
   },
   "file_extension": ".py",
   "mimetype": "text/x-python",
   "name": "python",
   "nbconvert_exporter": "python",
   "pygments_lexer": "ipython3",
   "version": "3.7.7"
  }
 },
 "nbformat": 4,
 "nbformat_minor": 4
}
