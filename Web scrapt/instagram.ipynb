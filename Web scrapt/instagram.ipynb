{
 "metadata": {
  "language_info": {
   "codemirror_mode": {
    "name": "ipython",
    "version": 3
   },
   "file_extension": ".py",
   "mimetype": "text/x-python",
   "name": "python",
   "nbconvert_exporter": "python",
   "pygments_lexer": "ipython3",
   "version": "3.7.10"
  },
  "orig_nbformat": 2,
  "kernelspec": {
   "name": "python3710jvsc74a57bd03916bdc24630a50b635243996c382192d19a5fbbd4640858a4082e18f0f3a639",
   "display_name": "Python 3.7.10 64-bit ('pytorch': conda)"
  }
 },
 "nbformat": 4,
 "nbformat_minor": 2,
 "cells": [
  {
   "source": [
    "# Scraping Instagram with Python\n",
    "\n",
    "First of all, if you are learning Data Science then scraping Instagram will help you in getting the new trends of businesses, so that you can generate more leads and can reach out for your new potential customers. Now let’s start with scraping Instagram users profiles:"
   ],
   "cell_type": "markdown",
   "metadata": {}
  },
  {
   "cell_type": "code",
   "execution_count": 2,
   "metadata": {},
   "outputs": [
    {
     "output_type": "stream",
     "name": "stdout",
     "text": [
      "Collecting instaloader\n",
      "  Downloading instaloader-4.7.1.tar.gz (49 kB)\n",
      "\u001b[K     |████████████████████████████████| 49 kB 1.1 MB/s \n",
      "\u001b[?25hRequirement already satisfied: requests>=2.4 in /Users/tranxuandien/opt/anaconda3/envs/pytorch/lib/python3.7/site-packages (from instaloader) (2.25.1)\n",
      "Requirement already satisfied: urllib3<1.27,>=1.21.1 in /Users/tranxuandien/opt/anaconda3/envs/pytorch/lib/python3.7/site-packages (from requests>=2.4->instaloader) (1.26.3)\n",
      "Requirement already satisfied: chardet<5,>=3.0.2 in /Users/tranxuandien/opt/anaconda3/envs/pytorch/lib/python3.7/site-packages (from requests>=2.4->instaloader) (4.0.0)\n",
      "Requirement already satisfied: certifi>=2017.4.17 in /Users/tranxuandien/opt/anaconda3/envs/pytorch/lib/python3.7/site-packages (from requests>=2.4->instaloader) (2020.12.5)\n",
      "Requirement already satisfied: idna<3,>=2.5 in /Users/tranxuandien/opt/anaconda3/envs/pytorch/lib/python3.7/site-packages (from requests>=2.4->instaloader) (2.10)\n",
      "Building wheels for collected packages: instaloader\n",
      "  Building wheel for instaloader (setup.py) ... \u001b[?25ldone\n",
      "\u001b[?25h  Created wheel for instaloader: filename=instaloader-4.7.1-py3-none-any.whl size=53346 sha256=098b9139374527c64a69cfaef2893b56330295da65327a1a4e8829955e20e517\n",
      "  Stored in directory: /Users/tranxuandien/Library/Caches/pip/wheels/4c/5c/c6/9eb969fa53d76c4e972d036dd72d216100568739e261fee21e\n",
      "Successfully built instaloader\n",
      "Installing collected packages: instaloader\n",
      "Successfully installed instaloader-4.7.1\n"
     ]
    }
   ],
   "source": [
    "# Import the module\n",
    "!pip install instaloader"
   ]
  },
  {
   "cell_type": "code",
   "execution_count": 3,
   "metadata": {},
   "outputs": [
    {
     "output_type": "stream",
     "name": "stdout",
     "text": [
      "<class 'instaloader.structures.Profile'>\n"
     ]
    }
   ],
   "source": [
    "import instaloader\n",
    "\n",
    "# Create an instance of Instaloader class\n",
    "bot = instaloader.Instaloader()\n",
    "\n",
    "# Load a profile from an Instagram handle\n",
    "profile = instaloader.Profile.from_username(bot.context, 'aman.kharwal')\n",
    "\n",
    "print(type(profile))"
   ]
  },
  {
   "source": [
    "Now let’s see how we can extract some valuable information from an Instagram profile:"
   ],
   "cell_type": "markdown",
   "metadata": {}
  },
  {
   "cell_type": "code",
   "execution_count": 4,
   "metadata": {},
   "outputs": [
    {
     "output_type": "stream",
     "name": "stdout",
     "text": [
      "Username:  aman.kharwal\nUser ID:  1986707800\nNumber of Posts:  334\nFollowers:  1773\nFollowees:  109\nBio:  Solopreneur\nData Science | Machine Learning | C++ | Python https://bit.ly/3as4jiM\n"
     ]
    }
   ],
   "source": [
    "print(\"Username: \", profile.username)\n",
    "print(\"User ID: \", profile.userid)\n",
    "print(\"Number of Posts: \", profile.mediacount)\n",
    "print(\"Followers: \", profile.followers)\n",
    "print(\"Followees: \", profile.followees)\n",
    "print(\"Bio: \", profile.biography,profile.external_url)"
   ]
  },
  {
   "source": [
    "Now let’s see how you can log in to your Instagram profile using python:"
   ],
   "cell_type": "markdown",
   "metadata": {}
  },
  {
   "cell_type": "code",
   "execution_count": null,
   "metadata": {},
   "outputs": [],
   "source": [
    "# Login with username and password in the script\n",
    "bot.login(user=\"dien1105\",passwd=\"your password\")\n",
    "\n",
    "# Interactive login on terminal\n",
    "bot.interactive_login(\"your username\") # Asks for password in the terminal"
   ]
  },
  {
   "source": [
    "## Scraping Instagram Followers and Followees\n",
    "\n",
    "Scraping your followers and followees will help you in getting a list of their usernames, which you will require to do when you will work in a professional environment in the data science field:"
   ],
   "cell_type": "markdown",
   "metadata": {}
  },
  {
   "cell_type": "code",
   "execution_count": 6,
   "metadata": {},
   "outputs": [
    {
     "output_type": "error",
     "ename": "LoginRequiredException",
     "evalue": "--login required to get a profile's followers.",
     "traceback": [
      "\u001b[0;31m---------------------------------------------------------------------------\u001b[0m",
      "\u001b[0;31mLoginRequiredException\u001b[0m                    Traceback (most recent call last)",
      "\u001b[0;32m<ipython-input-6-6daeaebd69fb>\u001b[0m in \u001b[0;36m<module>\u001b[0;34m\u001b[0m\n\u001b[1;32m      1\u001b[0m \u001b[0;31m# Retrieve the usernames of all followers\u001b[0m\u001b[0;34m\u001b[0m\u001b[0;34m\u001b[0m\u001b[0;34m\u001b[0m\u001b[0m\n\u001b[0;32m----> 2\u001b[0;31m \u001b[0mfollowers\u001b[0m \u001b[0;34m=\u001b[0m \u001b[0;34m[\u001b[0m\u001b[0mfollower\u001b[0m\u001b[0;34m.\u001b[0m\u001b[0musername\u001b[0m \u001b[0;32mfor\u001b[0m \u001b[0mfollower\u001b[0m \u001b[0;32min\u001b[0m \u001b[0mprofile\u001b[0m\u001b[0;34m.\u001b[0m\u001b[0mget_followers\u001b[0m\u001b[0;34m(\u001b[0m\u001b[0;34m)\u001b[0m\u001b[0;34m]\u001b[0m\u001b[0;34m\u001b[0m\u001b[0;34m\u001b[0m\u001b[0m\n\u001b[0m\u001b[1;32m      3\u001b[0m \u001b[0;34m\u001b[0m\u001b[0m\n\u001b[1;32m      4\u001b[0m \u001b[0;31m# Retrieve the usernames of all followees\u001b[0m\u001b[0;34m\u001b[0m\u001b[0;34m\u001b[0m\u001b[0;34m\u001b[0m\u001b[0m\n\u001b[1;32m      5\u001b[0m \u001b[0mfollowees\u001b[0m \u001b[0;34m=\u001b[0m \u001b[0;34m[\u001b[0m\u001b[0mfollowee\u001b[0m\u001b[0;34m.\u001b[0m\u001b[0musername\u001b[0m \u001b[0;32mfor\u001b[0m \u001b[0mfollowee\u001b[0m \u001b[0;32min\u001b[0m \u001b[0mprofile\u001b[0m\u001b[0;34m.\u001b[0m\u001b[0mget_followees\u001b[0m\u001b[0;34m(\u001b[0m\u001b[0;34m)\u001b[0m\u001b[0;34m]\u001b[0m\u001b[0;34m\u001b[0m\u001b[0;34m\u001b[0m\u001b[0m\n",
      "\u001b[0;32m~/opt/anaconda3/envs/pytorch/lib/python3.7/site-packages/instaloader/structures.py\u001b[0m in \u001b[0;36mget_followers\u001b[0;34m(self)\u001b[0m\n\u001b[1;32m    923\u001b[0m         \"\"\"\n\u001b[1;32m    924\u001b[0m         \u001b[0;32mif\u001b[0m \u001b[0;32mnot\u001b[0m \u001b[0mself\u001b[0m\u001b[0;34m.\u001b[0m\u001b[0m_context\u001b[0m\u001b[0;34m.\u001b[0m\u001b[0mis_logged_in\u001b[0m\u001b[0;34m:\u001b[0m\u001b[0;34m\u001b[0m\u001b[0;34m\u001b[0m\u001b[0m\n\u001b[0;32m--> 925\u001b[0;31m             \u001b[0;32mraise\u001b[0m \u001b[0mLoginRequiredException\u001b[0m\u001b[0;34m(\u001b[0m\u001b[0;34m\"--login required to get a profile's followers.\"\u001b[0m\u001b[0;34m)\u001b[0m\u001b[0;34m\u001b[0m\u001b[0;34m\u001b[0m\u001b[0m\n\u001b[0m\u001b[1;32m    926\u001b[0m         \u001b[0mself\u001b[0m\u001b[0;34m.\u001b[0m\u001b[0m_obtain_metadata\u001b[0m\u001b[0;34m(\u001b[0m\u001b[0;34m)\u001b[0m\u001b[0;34m\u001b[0m\u001b[0;34m\u001b[0m\u001b[0m\n\u001b[1;32m    927\u001b[0m         return NodeIterator(\n",
      "\u001b[0;31mLoginRequiredException\u001b[0m: --login required to get a profile's followers."
     ]
    }
   ],
   "source": [
    "# Retrieve the usernames of all followers\n",
    "followers = [follower.username for follower in profile.get_followers()]\n",
    "\n",
    "# Retrieve the usernames of all followees\n",
    "followees = [followee.username for followee in profile.get_followees()]\n",
    "print(followers)"
   ]
  },
  {
   "source": [
    "## Downloading Posts from Another Profile\n",
    "\n",
    "Getting posts from any profile is easy in python. We just need to use get_posts(). I will this method on the profile of someone else. To download each post, we need to loop over the generator object using .download_post() method. Now let’s go through this:"
   ],
   "cell_type": "markdown",
   "metadata": {}
  },
  {
   "cell_type": "code",
   "execution_count": null,
   "metadata": {},
   "outputs": [],
   "source": [
    "# Load a new profile\n",
    "profile = instaloader.Profile.from_username(bot.context, 'wwe')\n",
    "\n",
    "# Get all posts in a generator object\n",
    "posts = profile.get_posts()\n",
    "\n",
    "# Iterate and download\n",
    "for index, post in enumerate(posts, 1):\n",
    "    bot.download_post(post, target=f\"{profile.username}_{index}\")"
   ]
  }
 ]
}